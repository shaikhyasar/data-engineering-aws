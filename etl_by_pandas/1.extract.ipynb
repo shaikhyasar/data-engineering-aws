{
 "cells": [
  {
   "cell_type": "code",
   "execution_count": null,
   "id": "43e56d74",
   "metadata": {},
   "outputs": [],
   "source": [
    "from faker import Faker\n",
    "import csv\n",
    "fak=Faker()\n",
    "f = open(\"data.csv\",\"w\")\n",
    "writer = csv.writer(f)\n",
    "writer.writerow([\"Name\",\"Address\",\"Age\",\"City\",\"State\",\"ZipCode\",\"Long\",\"Lat\"])\n",
    "for i in range(1000):\n",
    "    writer.writerow([fak.name(),\n",
    "                     fak.address(),\n",
    "                     fak.random_int(min=18,max=60,step=1),\n",
    "                     fak.city(),\n",
    "                     fak.state(),\n",
    "                     fak.zipcode(),\n",
    "                     fak.longitude(),\n",
    "                     fak.latitude()])\n",
    "f.close()"
   ]
  },
  {
   "cell_type": "code",
   "execution_count": null,
   "id": "9978e47e",
   "metadata": {},
   "outputs": [],
   "source": [
    "with open(\"data.csv\") as f:\n",
    "    reader = csv.DictReader(f)\n",
    "    next(reader)\n",
    "    for i in reader:\n",
    "        print(i[\"Name\"])"
   ]
  },
  {
   "cell_type": "code",
   "execution_count": null,
   "id": "796c3681",
   "metadata": {},
   "outputs": [],
   "source": [
    "import pandas as pd\n",
    "df = pd.read_csv(\"data.csv\")\n",
    "df"
   ]
  },
  {
   "cell_type": "code",
   "execution_count": null,
   "id": "ec67a000",
   "metadata": {},
   "outputs": [],
   "source": [
    "data={'Name':['Paul','Bob','Susan','Yolanda'],\n",
    "'Age':[23,45,18,21]}\n",
    "df = pd.DataFrame(data)\n",
    "df"
   ]
  },
  {
   "cell_type": "code",
   "execution_count": null,
   "id": "5823c5fa",
   "metadata": {},
   "outputs": [],
   "source": [
    "df.to_csv('fromdf.CSV',index=False)"
   ]
  },
  {
   "cell_type": "code",
   "execution_count": null,
   "id": "94b171ce",
   "metadata": {},
   "outputs": [],
   "source": [
    "df1 = pd.read_csv(\"fromdf.CSV\")\n",
    "df1"
   ]
  },
  {
   "cell_type": "code",
   "execution_count": null,
   "id": "90ea52a9",
   "metadata": {},
   "outputs": [],
   "source": [
    "import json\n",
    "f = open(\"data.json\",\"w\")\n",
    "alldata = {}\n",
    "alldata['records'] = []\n",
    "for i in range(1000):\n",
    "    data = {\n",
    "        \"name\":fak.name(),\n",
    "        \"age\": fak.random_int(min=18, max=60,step=1),\n",
    "        \"address\" : fak.address(),\n",
    "        \"city\" : fak.city(),\n",
    "        \"state\" : fak.state(),\n",
    "        \"zip\" : fak.zipcode(),\n",
    "        \"long\" : float(fak.longitude()),\n",
    "        \"lat\" : float(fak.latitude()),\n",
    "    }\n",
    "    alldata['records'].append(data)\n",
    "\n",
    "json.dump(alldata,f)\n",
    "f.close()"
   ]
  },
  {
   "cell_type": "code",
   "execution_count": null,
   "id": "50db5cf7",
   "metadata": {},
   "outputs": [],
   "source": [
    "df2 = pd.read_json(\"data.json\")\n",
    "df2"
   ]
  },
  {
   "cell_type": "code",
   "execution_count": null,
   "id": "9da183c7",
   "metadata": {},
   "outputs": [],
   "source": [
    "import pandas.io.json as pd_json\n",
    "#f = open(\"data.json\")\n",
    "#df4 = pd_json.loads(f.read())\n",
    "with open(\"data.json\") as f:\n",
    "    df4 = pd_json.loads(f.read())\n",
    "df4"
   ]
  },
  {
   "cell_type": "code",
   "execution_count": null,
   "id": "d49498a1",
   "metadata": {},
   "outputs": [],
   "source": [
    "df5 = pd_json.json_normalize(df4,record_path='records')"
   ]
  },
  {
   "cell_type": "code",
   "execution_count": null,
   "id": "d891abac",
   "metadata": {},
   "outputs": [],
   "source": [
    "df5.head(5).to_json(orient=\"records\")"
   ]
  },
  {
   "cell_type": "code",
   "execution_count": null,
   "id": "46e8e80e",
   "metadata": {},
   "outputs": [],
   "source": [
    "df5.head(5).to_json()"
   ]
  },
  {
   "cell_type": "code",
   "execution_count": null,
   "id": "d2038bc0",
   "metadata": {},
   "outputs": [],
   "source": [
    "df5.to_json()"
   ]
  },
  {
   "cell_type": "code",
   "execution_count": null,
   "id": "dee4b438",
   "metadata": {},
   "outputs": [],
   "source": [
    "df5"
   ]
  },
  {
   "cell_type": "code",
   "execution_count": null,
   "id": "ff126476",
   "metadata": {},
   "outputs": [],
   "source": []
  }
 ],
 "metadata": {
  "kernelspec": {
   "display_name": "Python 3.10.4 ('venv': venv)",
   "language": "python",
   "name": "python3"
  },
  "language_info": {
   "codemirror_mode": {
    "name": "ipython",
    "version": 3
   },
   "file_extension": ".py",
   "mimetype": "text/x-python",
   "name": "python",
   "nbconvert_exporter": "python",
   "pygments_lexer": "ipython3",
   "version": "3.10.4"
  },
  "vscode": {
   "interpreter": {
    "hash": "0078531ebf7041659f619f9655c1aad05fef98359d2ffcea2f4c4e9d28cac60e"
   }
  }
 },
 "nbformat": 4,
 "nbformat_minor": 5
}
