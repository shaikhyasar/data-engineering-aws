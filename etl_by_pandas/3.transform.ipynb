{
 "cells": [
  {
   "cell_type": "code",
   "execution_count": null,
   "id": "012cd500",
   "metadata": {},
   "outputs": [],
   "source": [
    "import pandas as pd"
   ]
  },
  {
   "cell_type": "code",
   "execution_count": null,
   "id": "b8e4c57d",
   "metadata": {},
   "outputs": [],
   "source": [
    "df = pd.read_csv(\"scooter.csv\")\n",
    "df.columns"
   ]
  },
  {
   "cell_type": "code",
   "execution_count": null,
   "id": "7c22a66d",
   "metadata": {},
   "outputs": [],
   "source": [
    "df.dtypes"
   ]
  },
  {
   "cell_type": "code",
   "execution_count": null,
   "id": "a3a75b1b",
   "metadata": {},
   "outputs": [],
   "source": [
    "df.head()"
   ]
  },
  {
   "cell_type": "code",
   "execution_count": null,
   "id": "532aa4a7",
   "metadata": {},
   "outputs": [],
   "source": [
    "df[['DURATION','user_id']]"
   ]
  },
  {
   "cell_type": "code",
   "execution_count": null,
   "id": "8b593316",
   "metadata": {},
   "outputs": [],
   "source": [
    "df.sample()"
   ]
  },
  {
   "cell_type": "code",
   "execution_count": null,
   "id": "4b2a88c0",
   "metadata": {},
   "outputs": [],
   "source": [
    "df[5:10]"
   ]
  },
  {
   "cell_type": "code",
   "execution_count": null,
   "id": "00223a9d",
   "metadata": {},
   "outputs": [],
   "source": [
    "df.loc[52]\n",
    "df.loc[52]"
   ]
  },
  {
   "cell_type": "code",
   "execution_count": null,
   "id": "5591b31f",
   "metadata": {},
   "outputs": [],
   "source": [
    "df.at[2,'start_location_name']"
   ]
  },
  {
   "cell_type": "code",
   "execution_count": null,
   "id": "c574abe4",
   "metadata": {},
   "outputs": [],
   "source": [
    "df.loc[2,['DURATION','trip_id']]"
   ]
  },
  {
   "cell_type": "code",
   "execution_count": null,
   "id": "77cefc86",
   "metadata": {},
   "outputs": [],
   "source": [
    "df.where(df['user_id'] == 34352757)"
   ]
  },
  {
   "cell_type": "code",
   "execution_count": null,
   "id": "bc6105b8",
   "metadata": {},
   "outputs": [],
   "source": [
    "df[(df['user_id'] == 34352757)&(df['vehicle_id']==3902020)]"
   ]
  },
  {
   "cell_type": "code",
   "execution_count": null,
   "id": "9ad2f7ad",
   "metadata": {},
   "outputs": [],
   "source": [
    "#useful for numeric data like ages\n",
    "df.describe()"
   ]
  },
  {
   "cell_type": "code",
   "execution_count": null,
   "id": "6fab1b89",
   "metadata": {},
   "outputs": [],
   "source": [
    "\n",
    "df['start_location_name'].describe()"
   ]
  },
  {
   "cell_type": "code",
   "execution_count": null,
   "id": "f1d7edf1",
   "metadata": {},
   "outputs": [],
   "source": [
    "\n",
    "df['start_location_name'].value_counts()"
   ]
  },
  {
   "cell_type": "code",
   "execution_count": null,
   "id": "06863cbc",
   "metadata": {},
   "outputs": [],
   "source": [
    "df['DURATION'].value_counts(normalize=True)"
   ]
  },
  {
   "cell_type": "code",
   "execution_count": null,
   "id": "e86783dc",
   "metadata": {},
   "outputs": [],
   "source": [
    "df['DURATION'].value_counts(dropna=False)"
   ]
  },
  {
   "cell_type": "code",
   "execution_count": null,
   "id": "e25725e8",
   "metadata": {},
   "outputs": [],
   "source": [
    "df['DURATION'].describe()"
   ]
  },
  {
   "cell_type": "code",
   "execution_count": null,
   "id": "14b76b67",
   "metadata": {},
   "outputs": [],
   "source": [
    "df['end_location_name'].value_counts(dropna=False)"
   ]
  },
  {
   "cell_type": "code",
   "execution_count": null,
   "id": "d499c7e3",
   "metadata": {},
   "outputs": [],
   "source": [
    "from faker import Faker\n",
    "fake = Faker()\n",
    "data = []\n",
    "for i in range(1000):\n",
    "    data.append({'name':fake.name(),'age':fake.random_int(min=18,max=60)})\n",
    "\n",
    "df1 = pd.DataFrame(data,columns=['name','age'])\n",
    "df1"
   ]
  },
  {
   "cell_type": "code",
   "execution_count": null,
   "id": "2bd29434",
   "metadata": {},
   "outputs": [],
   "source": [
    "df1['age'].value_counts(bins=10)"
   ]
  },
  {
   "cell_type": "code",
   "execution_count": null,
   "id": "baf5e944",
   "metadata": {},
   "outputs": [],
   "source": [
    "df['end_location_name'].isnull().sum()"
   ]
  },
  {
   "cell_type": "code",
   "execution_count": null,
   "id": "7bef5eb4",
   "metadata": {},
   "outputs": [],
   "source": [
    "df.isnull().sum()"
   ]
  },
  {
   "cell_type": "code",
   "execution_count": null,
   "id": "4d729e55",
   "metadata": {},
   "outputs": [],
   "source": [
    "df.drop(columns=['region_id'],inplace=True)"
   ]
  },
  {
   "cell_type": "code",
   "execution_count": null,
   "id": "ecbec59b",
   "metadata": {},
   "outputs": [],
   "source": [
    "df['start_location_name'].isnull().sum()"
   ]
  },
  {
   "cell_type": "code",
   "execution_count": null,
   "id": "baa7c0d7",
   "metadata": {},
   "outputs": [],
   "source": [
    "df['start_location_name'][(df['start_location_name'].isnull())]"
   ]
  },
  {
   "cell_type": "code",
   "execution_count": null,
   "id": "a285bf5c",
   "metadata": {},
   "outputs": [],
   "source": [
    "df2 = df.dropna(axis = 0, how = 'any', subset=['start_location_name'],inplace=False)"
   ]
  },
  {
   "cell_type": "code",
   "execution_count": null,
   "id": "7d081eb3",
   "metadata": {},
   "outputs": [],
   "source": [
    "len(df2)"
   ]
  },
  {
   "cell_type": "code",
   "execution_count": null,
   "id": "dcf4a878",
   "metadata": {},
   "outputs": [],
   "source": [
    "df['start_location_name'][(df['start_location_name'].isnull())]"
   ]
  },
  {
   "cell_type": "code",
   "execution_count": null,
   "id": "a64dd62a",
   "metadata": {},
   "outputs": [],
   "source": [
    "df3 = df[(df['start_location_name'].isnull())&(df['end_location_name'].isnull())]"
   ]
  },
  {
   "cell_type": "code",
   "execution_count": null,
   "id": "7aec87a6",
   "metadata": {},
   "outputs": [],
   "source": [
    "value = {'start_location_name':'Start St.','end_location_name':'Stop St.'}\n",
    "df3.fillna(value=value)"
   ]
  },
  {
   "cell_type": "code",
   "execution_count": null,
   "id": "7e5eaadb",
   "metadata": {},
   "outputs": [],
   "source": [
    "df[(df['start_location_name'].isnull())&(df['end_location_name'].isnull())]"
   ]
  },
  {
   "cell_type": "code",
   "execution_count": null,
   "id": "17ac3ab2",
   "metadata": {},
   "outputs": [],
   "source": [
    "may = df[(df['month']=='May')]\n",
    "may.count()"
   ]
  },
  {
   "cell_type": "code",
   "execution_count": null,
   "id": "81e380ec",
   "metadata": {},
   "outputs": [],
   "source": [
    "df5 = df.drop(index=may.index)"
   ]
  },
  {
   "cell_type": "code",
   "execution_count": null,
   "id": "cc5f4c0d",
   "metadata": {},
   "outputs": [],
   "source": [
    "df5['month'].value_counts()"
   ]
  },
  {
   "cell_type": "code",
   "execution_count": null,
   "id": "f566be82",
   "metadata": {},
   "outputs": [],
   "source": [
    "df.columns = [i.lower() for i in df.columns]\n",
    "df.columns"
   ]
  },
  {
   "cell_type": "code",
   "execution_count": null,
   "id": "5fd94e86",
   "metadata": {},
   "outputs": [],
   "source": [
    "df.rename({'DURATION':'duration'},inplace=True) #used for multiple columns"
   ]
  },
  {
   "cell_type": "code",
   "execution_count": null,
   "id": "cbb0d8ef",
   "metadata": {},
   "outputs": [],
   "source": [
    "df.loc[df['start_location_name']=='1898 Mountain Rd NW, Albuquerque, NM 87104, USA','new_column'] = 'Yes'\n",
    "df.loc[df['start_location_name']!='1898 Mountain Rd NW, Albuquerque, NM 87104, USA','new_column'] = 'No'\n",
    "df.loc[df['start_location_name']=='1898 Mountain Rd NW, Albuquerque, NM 87104, USA']"
   ]
  },
  {
   "cell_type": "code",
   "execution_count": null,
   "id": "1474e4e0",
   "metadata": {},
   "outputs": [],
   "source": [
    "df['started_at'] = pd.to_datetime(df['started_at'], format=\"%m/%d/%Y %H:%M\")\n",
    "df['ended_at'] = pd.to_datetime(df['ended_at'], format=\"%m/%d/%Y %H:%M\")"
   ]
  },
  {
   "cell_type": "code",
   "execution_count": null,
   "id": "268c47fd",
   "metadata": {},
   "outputs": [],
   "source": [
    "df.dtypes"
   ]
  },
  {
   "cell_type": "code",
   "execution_count": null,
   "id": "16466ca4",
   "metadata": {},
   "outputs": [],
   "source": []
  }
 ],
 "metadata": {
  "kernelspec": {
   "display_name": "Python 3.10.4 ('venv': venv)",
   "language": "python",
   "name": "python3"
  },
  "language_info": {
   "codemirror_mode": {
    "name": "ipython",
    "version": 3
   },
   "file_extension": ".py",
   "mimetype": "text/x-python",
   "name": "python",
   "nbconvert_exporter": "python",
   "pygments_lexer": "ipython3",
   "version": "3.10.4"
  },
  "vscode": {
   "interpreter": {
    "hash": "7cfc8b839e7fd1074f5eef142b8b892c250f4587380e21babc58a52485f7c705"
   }
  }
 },
 "nbformat": 4,
 "nbformat_minor": 5
}
